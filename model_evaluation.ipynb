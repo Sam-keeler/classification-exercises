{
 "cells": [
  {
   "cell_type": "code",
   "execution_count": 1,
   "metadata": {},
   "outputs": [],
   "source": [
    "import matplotlib.pyplot as plt\n",
    "import numpy as np\n",
    "import pandas as pd\n",
    "from scipy import stats\n",
    "from datetime import date\n",
    "import seaborn as sns\n",
    "from pydataset import data\n",
    "from env import host, user, password\n",
    "import os"
   ]
  },
  {
   "cell_type": "code",
   "execution_count": 2,
   "metadata": {},
   "outputs": [
    {
     "ename": "SyntaxError",
     "evalue": "invalid syntax (<ipython-input-2-b395e5e28ddc>, line 2)",
     "output_type": "error",
     "traceback": [
      "\u001b[0;36m  File \u001b[0;32m\"<ipython-input-2-b395e5e28ddc>\"\u001b[0;36m, line \u001b[0;32m2\u001b[0m\n\u001b[0;31m    |               | pred dog   | pred cat   |\u001b[0m\n\u001b[0m    ^\u001b[0m\n\u001b[0;31mSyntaxError\u001b[0m\u001b[0;31m:\u001b[0m invalid syntax\n"
     ]
    }
   ],
   "source": [
    "# Given the following confusion matrix, evaluate (by hand) the model's performance.\n",
    "|               | pred dog   | pred cat   |\n",
    "|:------------  |-----------:|-----------:|\n",
    "| actual dog    |         46 |         7  |\n",
    "| actual cat    |         13 |         34 |\n",
    "\n",
    "# In the context of this problem, what is a false positive?\n",
    "# Actual cat but predicted to be dog\n",
    "\n",
    "# In the context of this problem, what is a false negative?\n",
    "# Actual dog but predicted to be cat\n",
    "\n",
    "# True positive: Actual dog predicted dog\n",
    "# True negative: Actual cat predicted cat\n",
    "\n",
    "# Accuracy: TP + TN / ALL = (46 + 34)/ 100 = 80%\n",
    "# Precision: TP / (TP + FP) = 46 / (46 + 13) = 78%\n",
    "# Recall: TP / (TP + FN) = 46 / (46 + 7) = 87%"
   ]
  },
  {
   "cell_type": "code",
   "execution_count": 6,
   "metadata": {},
   "outputs": [
    {
     "data": {
      "text/html": [
       "<div>\n",
       "<style scoped>\n",
       "    .dataframe tbody tr th:only-of-type {\n",
       "        vertical-align: middle;\n",
       "    }\n",
       "\n",
       "    .dataframe tbody tr th {\n",
       "        vertical-align: top;\n",
       "    }\n",
       "\n",
       "    .dataframe thead th {\n",
       "        text-align: right;\n",
       "    }\n",
       "</style>\n",
       "<table border=\"1\" class=\"dataframe\">\n",
       "  <thead>\n",
       "    <tr style=\"text-align: right;\">\n",
       "      <th></th>\n",
       "      <th>actual</th>\n",
       "      <th>model1</th>\n",
       "      <th>model2</th>\n",
       "      <th>model3</th>\n",
       "    </tr>\n",
       "  </thead>\n",
       "  <tbody>\n",
       "    <tr>\n",
       "      <th>0</th>\n",
       "      <td>No Defect</td>\n",
       "      <td>No Defect</td>\n",
       "      <td>Defect</td>\n",
       "      <td>No Defect</td>\n",
       "    </tr>\n",
       "    <tr>\n",
       "      <th>1</th>\n",
       "      <td>No Defect</td>\n",
       "      <td>No Defect</td>\n",
       "      <td>Defect</td>\n",
       "      <td>Defect</td>\n",
       "    </tr>\n",
       "    <tr>\n",
       "      <th>2</th>\n",
       "      <td>No Defect</td>\n",
       "      <td>No Defect</td>\n",
       "      <td>Defect</td>\n",
       "      <td>No Defect</td>\n",
       "    </tr>\n",
       "    <tr>\n",
       "      <th>3</th>\n",
       "      <td>No Defect</td>\n",
       "      <td>Defect</td>\n",
       "      <td>Defect</td>\n",
       "      <td>Defect</td>\n",
       "    </tr>\n",
       "    <tr>\n",
       "      <th>4</th>\n",
       "      <td>No Defect</td>\n",
       "      <td>No Defect</td>\n",
       "      <td>Defect</td>\n",
       "      <td>No Defect</td>\n",
       "    </tr>\n",
       "    <tr>\n",
       "      <th>...</th>\n",
       "      <td>...</td>\n",
       "      <td>...</td>\n",
       "      <td>...</td>\n",
       "      <td>...</td>\n",
       "    </tr>\n",
       "    <tr>\n",
       "      <th>195</th>\n",
       "      <td>No Defect</td>\n",
       "      <td>No Defect</td>\n",
       "      <td>Defect</td>\n",
       "      <td>Defect</td>\n",
       "    </tr>\n",
       "    <tr>\n",
       "      <th>196</th>\n",
       "      <td>Defect</td>\n",
       "      <td>Defect</td>\n",
       "      <td>No Defect</td>\n",
       "      <td>No Defect</td>\n",
       "    </tr>\n",
       "    <tr>\n",
       "      <th>197</th>\n",
       "      <td>No Defect</td>\n",
       "      <td>No Defect</td>\n",
       "      <td>No Defect</td>\n",
       "      <td>No Defect</td>\n",
       "    </tr>\n",
       "    <tr>\n",
       "      <th>198</th>\n",
       "      <td>No Defect</td>\n",
       "      <td>No Defect</td>\n",
       "      <td>Defect</td>\n",
       "      <td>Defect</td>\n",
       "    </tr>\n",
       "    <tr>\n",
       "      <th>199</th>\n",
       "      <td>No Defect</td>\n",
       "      <td>No Defect</td>\n",
       "      <td>No Defect</td>\n",
       "      <td>Defect</td>\n",
       "    </tr>\n",
       "  </tbody>\n",
       "</table>\n",
       "<p>200 rows × 4 columns</p>\n",
       "</div>"
      ],
      "text/plain": [
       "        actual     model1     model2     model3\n",
       "0    No Defect  No Defect     Defect  No Defect\n",
       "1    No Defect  No Defect     Defect     Defect\n",
       "2    No Defect  No Defect     Defect  No Defect\n",
       "3    No Defect     Defect     Defect     Defect\n",
       "4    No Defect  No Defect     Defect  No Defect\n",
       "..         ...        ...        ...        ...\n",
       "195  No Defect  No Defect     Defect     Defect\n",
       "196     Defect     Defect  No Defect  No Defect\n",
       "197  No Defect  No Defect  No Defect  No Defect\n",
       "198  No Defect  No Defect     Defect     Defect\n",
       "199  No Defect  No Defect  No Defect     Defect\n",
       "\n",
       "[200 rows x 4 columns]"
      ]
     },
     "execution_count": 6,
     "metadata": {},
     "output_type": "execute_result"
    }
   ],
   "source": [
    "ducks = pd.read_csv('c3.csv')\n",
    "ducks\n",
    "# True positive: Predicted defect actual defect\n",
    "# False positive: predicted defect actual no defect\n",
    "# True negative: predicted no defect actual no defect\n",
    "# False negative: predicted no defect actual defect"
   ]
  },
  {
   "cell_type": "code",
   "execution_count": 14,
   "metadata": {},
   "outputs": [
    {
     "name": "stdout",
     "output_type": "stream",
     "text": [
      "   model1 recall: 50.00%\n",
      "   model2 recall: 56.25%\n",
      "   model3 recall: 81.25%\n",
      "baseline recall: 100.00%\n"
     ]
    },
    {
     "name": "stderr",
     "output_type": "stream",
     "text": [
      "<ipython-input-14-fe79e1a1d182>:12: SettingWithCopyWarning: \n",
      "A value is trying to be set on a copy of a slice from a DataFrame.\n",
      "Try using .loc[row_indexer,col_indexer] = value instead\n",
      "\n",
      "See the caveats in the documentation: https://pandas.pydata.org/pandas-docs/stable/user_guide/indexing.html#returning-a-view-versus-a-copy\n",
      "  subset['baseline_prediction'] = 'Defect'\n"
     ]
    }
   ],
   "source": [
    "# An internal team wants to investigate the cause of the manufacturing defects. \n",
    "# They tell you that they want to identify as many of the ducks that have a defect as possible. \n",
    "# Which evaluation metric would be appropriate here? \n",
    "    # Recall would be the most appropriate, as not identifying a defect would be costly in this scenario\n",
    "# Which model would be the best fit for this use case?\n",
    "    # model1: 50%\n",
    "    # model2: 56.25%\n",
    "    # model3: 81.25%\n",
    "# Model 3 would be the best fit for identifying as many defects as possible\n",
    "\n",
    "subset = ducks[ducks.actual == 'Defect']\n",
    "subset['baseline_prediction'] = 'Defect'\n",
    "\n",
    "model1_recall = (subset.model1 == subset.actual).mean()\n",
    "model2_recall = (subset.model2 == subset.actual).mean()\n",
    "model3_recall = (subset.model3 == subset.actual).mean()\n",
    "baseline_recall = (subset.baseline_prediction == subset.actual).mean()\n",
    "\n",
    "print(f'   model1 recall: {model1_recall:.2%}')\n",
    "print(f'   model2 recall: {model2_recall:.2%}')\n",
    "print(f'   model3 recall: {model3_recall:.2%}')\n",
    "print(f'baseline recall: {baseline_recall:.2%}')\n"
   ]
  },
  {
   "cell_type": "code",
   "execution_count": 16,
   "metadata": {},
   "outputs": [
    {
     "name": "stdout",
     "output_type": "stream",
     "text": [
      "model1 precision: 80.00%\n",
      "model2 precision: 10.00%\n",
      "model3 precision: 13.13%\n"
     ]
    }
   ],
   "source": [
    "# Recently several stories in the local news have come out highlighting customers who received a rubber duck \n",
    "# with a defect, and portraying C3 in a bad light. \n",
    "# The PR team has decided to launch a program that gives customers with a defective duck a vacation to Hawaii.\n",
    "# They need you to predict which ducks will have defects, but tell you the really don't want to \n",
    "# accidentally give out a vacation package when the duck really doesn't have a defect. \n",
    "# Which evaluation metric would be appropriate here? Which model would be the best fit for this use case?\n",
    "    # In this case false positives are seen as expensive where false negatives aren't as much of a concern\n",
    "    # This suggests precision would be the best evaluation metric here\n",
    "# Model 1 would be the best fit for identifying those ducks with defects while minimizing false positives\n",
    "    \n",
    "subset1 = ducks[ducks.model1 == 'Defect']\n",
    "subset2 = ducks[ducks.model2 == 'Defect']\n",
    "subset3 = ducks[ducks.model3 == 'Defect']\n",
    "model1_precision = (subset1.actual == subset1.model1).mean()\n",
    "model2_precision = (subset2.actual == subset2.model2).mean()\n",
    "model3_precision = (subset3.actual == subset3.model3).mean()\n",
    "\n",
    "print(f'model1 precision: {model1_precision:.2%}')\n",
    "print(f'model2 precision: {model2_precision:.2%}')\n",
    "print(f'model3 precision: {model3_precision:.2%}')\n",
    "\n"
   ]
  },
  {
   "cell_type": "code",
   "execution_count": null,
   "metadata": {},
   "outputs": [],
   "source": [
    "# You are working as a data scientist for Gives You Paws ™, a subscription based service that shows \n",
    "# you cute pictures of dogs or cats (or both for an additional fee).\n",
    "# At Gives You Paws, anyone can upload pictures of their cats or dogs. \n",
    "# The photos are then put through a two step process.\n",
    "# First an automated algorithm tags pictures as either a cat or a dog (Phase I).\n",
    "# Next, the photos that have been initially identified are put through another round of review, \n",
    "# possibly with some human oversight, before being presented to the users (Phase II)."
   ]
  }
 ],
 "metadata": {
  "kernelspec": {
   "display_name": "Python 3",
   "language": "python",
   "name": "python3"
  },
  "language_info": {
   "codemirror_mode": {
    "name": "ipython",
    "version": 3
   },
   "file_extension": ".py",
   "mimetype": "text/x-python",
   "name": "python",
   "nbconvert_exporter": "python",
   "pygments_lexer": "ipython3",
   "version": "3.8.5"
  }
 },
 "nbformat": 4,
 "nbformat_minor": 4
}
