{
 "cells": [
  {
   "cell_type": "code",
   "execution_count": 1,
   "metadata": {},
   "outputs": [],
   "source": [
    "import matplotlib.pyplot as plt\n",
    "import numpy as np\n",
    "import pandas as pd\n",
    "from scipy import stats\n",
    "from datetime import date\n",
    "import seaborn as sns\n",
    "from pydataset import data\n",
    "from env import host, user, password\n",
    "import os"
   ]
  },
  {
   "cell_type": "code",
   "execution_count": 2,
   "metadata": {},
   "outputs": [
    {
     "ename": "SyntaxError",
     "evalue": "invalid syntax (<ipython-input-2-b395e5e28ddc>, line 2)",
     "output_type": "error",
     "traceback": [
      "\u001b[0;36m  File \u001b[0;32m\"<ipython-input-2-b395e5e28ddc>\"\u001b[0;36m, line \u001b[0;32m2\u001b[0m\n\u001b[0;31m    |               | pred dog   | pred cat   |\u001b[0m\n\u001b[0m    ^\u001b[0m\n\u001b[0;31mSyntaxError\u001b[0m\u001b[0;31m:\u001b[0m invalid syntax\n"
     ]
    }
   ],
   "source": [
    "# Given the following confusion matrix, evaluate (by hand) the model's performance.\n",
    "|               | pred dog   | pred cat   |\n",
    "|:------------  |-----------:|-----------:|\n",
    "| actual dog    |         46 |         7  |\n",
    "| actual cat    |         13 |         34 |\n",
    "\n",
    "# In the context of this problem, what is a false positive?\n",
    "# Actual cat but predicted to be dog\n",
    "\n",
    "# In the context of this problem, what is a false negative?\n",
    "# Actual dog but predicted to be cat\n",
    "\n",
    "# True positive: Actual dog predicted dog\n",
    "# True negative: Actual cat predicted cat\n",
    "\n",
    "# Accuracy: TP + TN / ALL = (46 + 34)/ 100 = 80%\n",
    "# Precision: TP / (TP + FP) = 46 / (46 + 13) = 78%\n",
    "# Recall: TP / (TP + FN) = 46 / (46 + 7) = 87%"
   ]
  },
  {
   "cell_type": "code",
   "execution_count": 3,
   "metadata": {},
   "outputs": [
    {
     "data": {
      "text/html": [
       "<div>\n",
       "<style scoped>\n",
       "    .dataframe tbody tr th:only-of-type {\n",
       "        vertical-align: middle;\n",
       "    }\n",
       "\n",
       "    .dataframe tbody tr th {\n",
       "        vertical-align: top;\n",
       "    }\n",
       "\n",
       "    .dataframe thead th {\n",
       "        text-align: right;\n",
       "    }\n",
       "</style>\n",
       "<table border=\"1\" class=\"dataframe\">\n",
       "  <thead>\n",
       "    <tr style=\"text-align: right;\">\n",
       "      <th></th>\n",
       "      <th>actual</th>\n",
       "      <th>model1</th>\n",
       "      <th>model2</th>\n",
       "      <th>model3</th>\n",
       "    </tr>\n",
       "  </thead>\n",
       "  <tbody>\n",
       "    <tr>\n",
       "      <th>0</th>\n",
       "      <td>No Defect</td>\n",
       "      <td>No Defect</td>\n",
       "      <td>Defect</td>\n",
       "      <td>No Defect</td>\n",
       "    </tr>\n",
       "    <tr>\n",
       "      <th>1</th>\n",
       "      <td>No Defect</td>\n",
       "      <td>No Defect</td>\n",
       "      <td>Defect</td>\n",
       "      <td>Defect</td>\n",
       "    </tr>\n",
       "    <tr>\n",
       "      <th>2</th>\n",
       "      <td>No Defect</td>\n",
       "      <td>No Defect</td>\n",
       "      <td>Defect</td>\n",
       "      <td>No Defect</td>\n",
       "    </tr>\n",
       "    <tr>\n",
       "      <th>3</th>\n",
       "      <td>No Defect</td>\n",
       "      <td>Defect</td>\n",
       "      <td>Defect</td>\n",
       "      <td>Defect</td>\n",
       "    </tr>\n",
       "    <tr>\n",
       "      <th>4</th>\n",
       "      <td>No Defect</td>\n",
       "      <td>No Defect</td>\n",
       "      <td>Defect</td>\n",
       "      <td>No Defect</td>\n",
       "    </tr>\n",
       "    <tr>\n",
       "      <th>...</th>\n",
       "      <td>...</td>\n",
       "      <td>...</td>\n",
       "      <td>...</td>\n",
       "      <td>...</td>\n",
       "    </tr>\n",
       "    <tr>\n",
       "      <th>195</th>\n",
       "      <td>No Defect</td>\n",
       "      <td>No Defect</td>\n",
       "      <td>Defect</td>\n",
       "      <td>Defect</td>\n",
       "    </tr>\n",
       "    <tr>\n",
       "      <th>196</th>\n",
       "      <td>Defect</td>\n",
       "      <td>Defect</td>\n",
       "      <td>No Defect</td>\n",
       "      <td>No Defect</td>\n",
       "    </tr>\n",
       "    <tr>\n",
       "      <th>197</th>\n",
       "      <td>No Defect</td>\n",
       "      <td>No Defect</td>\n",
       "      <td>No Defect</td>\n",
       "      <td>No Defect</td>\n",
       "    </tr>\n",
       "    <tr>\n",
       "      <th>198</th>\n",
       "      <td>No Defect</td>\n",
       "      <td>No Defect</td>\n",
       "      <td>Defect</td>\n",
       "      <td>Defect</td>\n",
       "    </tr>\n",
       "    <tr>\n",
       "      <th>199</th>\n",
       "      <td>No Defect</td>\n",
       "      <td>No Defect</td>\n",
       "      <td>No Defect</td>\n",
       "      <td>Defect</td>\n",
       "    </tr>\n",
       "  </tbody>\n",
       "</table>\n",
       "<p>200 rows × 4 columns</p>\n",
       "</div>"
      ],
      "text/plain": [
       "        actual     model1     model2     model3\n",
       "0    No Defect  No Defect     Defect  No Defect\n",
       "1    No Defect  No Defect     Defect     Defect\n",
       "2    No Defect  No Defect     Defect  No Defect\n",
       "3    No Defect     Defect     Defect     Defect\n",
       "4    No Defect  No Defect     Defect  No Defect\n",
       "..         ...        ...        ...        ...\n",
       "195  No Defect  No Defect     Defect     Defect\n",
       "196     Defect     Defect  No Defect  No Defect\n",
       "197  No Defect  No Defect  No Defect  No Defect\n",
       "198  No Defect  No Defect     Defect     Defect\n",
       "199  No Defect  No Defect  No Defect     Defect\n",
       "\n",
       "[200 rows x 4 columns]"
      ]
     },
     "execution_count": 3,
     "metadata": {},
     "output_type": "execute_result"
    }
   ],
   "source": [
    "ducks = pd.read_csv('c3.csv')\n",
    "ducks\n",
    "# True positive: Predicted defect actual defect\n",
    "# False positive: predicted defect actual no defect\n",
    "# True negative: predicted no defect actual no defect\n",
    "# False negative: predicted no defect actual defect"
   ]
  },
  {
   "cell_type": "code",
   "execution_count": 4,
   "metadata": {},
   "outputs": [
    {
     "name": "stdout",
     "output_type": "stream",
     "text": [
      "   model1 recall: 50.00%\n",
      "   model2 recall: 56.25%\n",
      "   model3 recall: 81.25%\n",
      "baseline recall: 100.00%\n"
     ]
    },
    {
     "name": "stderr",
     "output_type": "stream",
     "text": [
      "<ipython-input-4-3086c40af71a>:12: SettingWithCopyWarning: \n",
      "A value is trying to be set on a copy of a slice from a DataFrame.\n",
      "Try using .loc[row_indexer,col_indexer] = value instead\n",
      "\n",
      "See the caveats in the documentation: https://pandas.pydata.org/pandas-docs/stable/user_guide/indexing.html#returning-a-view-versus-a-copy\n",
      "  subset['baseline_prediction'] = 'Defect'\n"
     ]
    }
   ],
   "source": [
    "# An internal team wants to investigate the cause of the manufacturing defects. \n",
    "# They tell you that they want to identify as many of the ducks that have a defect as possible. \n",
    "# Which evaluation metric would be appropriate here? \n",
    "    # Recall would be the most appropriate, as not identifying a defect would be costly in this scenario\n",
    "# Which model would be the best fit for this use case?\n",
    "    # model1: 50%\n",
    "    # model2: 56.25%\n",
    "    # model3: 81.25%\n",
    "# Model 3 would be the best fit for identifying as many defects as possible\n",
    "\n",
    "subset = ducks[ducks.actual == 'Defect']\n",
    "subset['baseline_prediction'] = 'Defect'\n",
    "\n",
    "model1_recall = (subset.model1 == subset.actual).mean()\n",
    "model2_recall = (subset.model2 == subset.actual).mean()\n",
    "model3_recall = (subset.model3 == subset.actual).mean()\n",
    "baseline_recall = (subset.baseline_prediction == subset.actual).mean()\n",
    "\n",
    "print(f'   model1 recall: {model1_recall:.2%}')\n",
    "print(f'   model2 recall: {model2_recall:.2%}')\n",
    "print(f'   model3 recall: {model3_recall:.2%}')\n",
    "print(f'baseline recall: {baseline_recall:.2%}')\n"
   ]
  },
  {
   "cell_type": "code",
   "execution_count": 5,
   "metadata": {},
   "outputs": [
    {
     "name": "stdout",
     "output_type": "stream",
     "text": [
      "model1 precision: 80.00%\n",
      "model2 precision: 10.00%\n",
      "model3 precision: 13.13%\n"
     ]
    }
   ],
   "source": [
    "# Recently several stories in the local news have come out highlighting customers who received a rubber duck \n",
    "# with a defect, and portraying C3 in a bad light. \n",
    "# The PR team has decided to launch a program that gives customers with a defective duck a vacation to Hawaii.\n",
    "# They need you to predict which ducks will have defects, but tell you the really don't want to \n",
    "# accidentally give out a vacation package when the duck really doesn't have a defect. \n",
    "# Which evaluation metric would be appropriate here? Which model would be the best fit for this use case?\n",
    "    # In this case false positives are seen as expensive where false negatives aren't as much of a concern\n",
    "    # This suggests precision would be the best evaluation metric here\n",
    "# Model 1 would be the best fit for identifying those ducks with defects while minimizing false positives\n",
    "    \n",
    "subset1 = ducks[ducks.model1 == 'Defect']\n",
    "subset2 = ducks[ducks.model2 == 'Defect']\n",
    "subset3 = ducks[ducks.model3 == 'Defect']\n",
    "model1_precision = (subset1.actual == subset1.model1).mean()\n",
    "model2_precision = (subset2.actual == subset2.model2).mean()\n",
    "model3_precision = (subset3.actual == subset3.model3).mean()\n",
    "\n",
    "print(f'model1 precision: {model1_precision:.2%}')\n",
    "print(f'model2 precision: {model2_precision:.2%}')\n",
    "print(f'model3 precision: {model3_precision:.2%}')\n",
    "\n"
   ]
  },
  {
   "cell_type": "code",
   "execution_count": 6,
   "metadata": {},
   "outputs": [],
   "source": [
    "# You are working as a data scientist for Gives You Paws ™, a subscription based service that shows \n",
    "# you cute pictures of dogs or cats (or both for an additional fee).\n",
    "# At Gives You Paws, anyone can upload pictures of their cats or dogs. \n",
    "# The photos are then put through a two step process.\n",
    "# First an automated algorithm tags pictures as either a cat or a dog (Phase I).\n",
    "# Next, the photos that have been initially identified are put through another round of review, \n",
    "# possibly with some human oversight, before being presented to the users (Phase II)."
   ]
  },
  {
   "cell_type": "code",
   "execution_count": 7,
   "metadata": {},
   "outputs": [
    {
     "data": {
      "text/html": [
       "<div>\n",
       "<style scoped>\n",
       "    .dataframe tbody tr th:only-of-type {\n",
       "        vertical-align: middle;\n",
       "    }\n",
       "\n",
       "    .dataframe tbody tr th {\n",
       "        vertical-align: top;\n",
       "    }\n",
       "\n",
       "    .dataframe thead th {\n",
       "        text-align: right;\n",
       "    }\n",
       "</style>\n",
       "<table border=\"1\" class=\"dataframe\">\n",
       "  <thead>\n",
       "    <tr style=\"text-align: right;\">\n",
       "      <th></th>\n",
       "      <th>actual</th>\n",
       "      <th>model1</th>\n",
       "      <th>model2</th>\n",
       "      <th>model3</th>\n",
       "      <th>model4</th>\n",
       "    </tr>\n",
       "  </thead>\n",
       "  <tbody>\n",
       "    <tr>\n",
       "      <th>0</th>\n",
       "      <td>cat</td>\n",
       "      <td>cat</td>\n",
       "      <td>dog</td>\n",
       "      <td>cat</td>\n",
       "      <td>dog</td>\n",
       "    </tr>\n",
       "    <tr>\n",
       "      <th>1</th>\n",
       "      <td>dog</td>\n",
       "      <td>dog</td>\n",
       "      <td>cat</td>\n",
       "      <td>cat</td>\n",
       "      <td>dog</td>\n",
       "    </tr>\n",
       "    <tr>\n",
       "      <th>2</th>\n",
       "      <td>dog</td>\n",
       "      <td>cat</td>\n",
       "      <td>cat</td>\n",
       "      <td>cat</td>\n",
       "      <td>dog</td>\n",
       "    </tr>\n",
       "    <tr>\n",
       "      <th>3</th>\n",
       "      <td>dog</td>\n",
       "      <td>dog</td>\n",
       "      <td>dog</td>\n",
       "      <td>cat</td>\n",
       "      <td>dog</td>\n",
       "    </tr>\n",
       "    <tr>\n",
       "      <th>4</th>\n",
       "      <td>cat</td>\n",
       "      <td>cat</td>\n",
       "      <td>cat</td>\n",
       "      <td>dog</td>\n",
       "      <td>dog</td>\n",
       "    </tr>\n",
       "    <tr>\n",
       "      <th>...</th>\n",
       "      <td>...</td>\n",
       "      <td>...</td>\n",
       "      <td>...</td>\n",
       "      <td>...</td>\n",
       "      <td>...</td>\n",
       "    </tr>\n",
       "    <tr>\n",
       "      <th>4995</th>\n",
       "      <td>dog</td>\n",
       "      <td>dog</td>\n",
       "      <td>dog</td>\n",
       "      <td>dog</td>\n",
       "      <td>dog</td>\n",
       "    </tr>\n",
       "    <tr>\n",
       "      <th>4996</th>\n",
       "      <td>dog</td>\n",
       "      <td>dog</td>\n",
       "      <td>cat</td>\n",
       "      <td>cat</td>\n",
       "      <td>dog</td>\n",
       "    </tr>\n",
       "    <tr>\n",
       "      <th>4997</th>\n",
       "      <td>dog</td>\n",
       "      <td>cat</td>\n",
       "      <td>cat</td>\n",
       "      <td>dog</td>\n",
       "      <td>dog</td>\n",
       "    </tr>\n",
       "    <tr>\n",
       "      <th>4998</th>\n",
       "      <td>cat</td>\n",
       "      <td>cat</td>\n",
       "      <td>cat</td>\n",
       "      <td>cat</td>\n",
       "      <td>dog</td>\n",
       "    </tr>\n",
       "    <tr>\n",
       "      <th>4999</th>\n",
       "      <td>dog</td>\n",
       "      <td>dog</td>\n",
       "      <td>dog</td>\n",
       "      <td>dog</td>\n",
       "      <td>dog</td>\n",
       "    </tr>\n",
       "  </tbody>\n",
       "</table>\n",
       "<p>5000 rows × 5 columns</p>\n",
       "</div>"
      ],
      "text/plain": [
       "     actual model1 model2 model3 model4\n",
       "0       cat    cat    dog    cat    dog\n",
       "1       dog    dog    cat    cat    dog\n",
       "2       dog    cat    cat    cat    dog\n",
       "3       dog    dog    dog    cat    dog\n",
       "4       cat    cat    cat    dog    dog\n",
       "...     ...    ...    ...    ...    ...\n",
       "4995    dog    dog    dog    dog    dog\n",
       "4996    dog    dog    cat    cat    dog\n",
       "4997    dog    cat    cat    dog    dog\n",
       "4998    cat    cat    cat    cat    dog\n",
       "4999    dog    dog    dog    dog    dog\n",
       "\n",
       "[5000 rows x 5 columns]"
      ]
     },
     "execution_count": 7,
     "metadata": {},
     "output_type": "execute_result"
    }
   ],
   "source": [
    "paws = pd.read_csv('gives_you_paws.csv')\n",
    "paws"
   ]
  },
  {
   "cell_type": "code",
   "execution_count": 8,
   "metadata": {},
   "outputs": [
    {
     "data": {
      "text/html": [
       "<div>\n",
       "<style scoped>\n",
       "    .dataframe tbody tr th:only-of-type {\n",
       "        vertical-align: middle;\n",
       "    }\n",
       "\n",
       "    .dataframe tbody tr th {\n",
       "        vertical-align: top;\n",
       "    }\n",
       "\n",
       "    .dataframe thead th {\n",
       "        text-align: right;\n",
       "    }\n",
       "</style>\n",
       "<table border=\"1\" class=\"dataframe\">\n",
       "  <thead>\n",
       "    <tr style=\"text-align: right;\">\n",
       "      <th></th>\n",
       "      <th>model1</th>\n",
       "      <th>model2</th>\n",
       "      <th>model3</th>\n",
       "      <th>model4</th>\n",
       "    </tr>\n",
       "    <tr>\n",
       "      <th>actual</th>\n",
       "      <th></th>\n",
       "      <th></th>\n",
       "      <th></th>\n",
       "      <th></th>\n",
       "    </tr>\n",
       "  </thead>\n",
       "  <tbody>\n",
       "    <tr>\n",
       "      <th>cat</th>\n",
       "      <td>1746</td>\n",
       "      <td>1746</td>\n",
       "      <td>1746</td>\n",
       "      <td>1746</td>\n",
       "    </tr>\n",
       "    <tr>\n",
       "      <th>dog</th>\n",
       "      <td>3254</td>\n",
       "      <td>3254</td>\n",
       "      <td>3254</td>\n",
       "      <td>3254</td>\n",
       "    </tr>\n",
       "  </tbody>\n",
       "</table>\n",
       "</div>"
      ],
      "text/plain": [
       "        model1  model2  model3  model4\n",
       "actual                                \n",
       "cat       1746    1746    1746    1746\n",
       "dog       3254    3254    3254    3254"
      ]
     },
     "execution_count": 8,
     "metadata": {},
     "output_type": "execute_result"
    }
   ],
   "source": [
    "# In terms of accuracy, how do the various models compare to the baseline model?\n",
    "# Are any of the models better than the baseline?"
   ]
  },
  {
   "cell_type": "code",
   "execution_count": 9,
   "metadata": {},
   "outputs": [],
   "source": [
    "paws['baseline'] = 'dog'"
   ]
  },
  {
   "cell_type": "code",
   "execution_count": 10,
   "metadata": {},
   "outputs": [
    {
     "data": {
      "text/html": [
       "<div>\n",
       "<style scoped>\n",
       "    .dataframe tbody tr th:only-of-type {\n",
       "        vertical-align: middle;\n",
       "    }\n",
       "\n",
       "    .dataframe tbody tr th {\n",
       "        vertical-align: top;\n",
       "    }\n",
       "\n",
       "    .dataframe thead th {\n",
       "        text-align: right;\n",
       "    }\n",
       "</style>\n",
       "<table border=\"1\" class=\"dataframe\">\n",
       "  <thead>\n",
       "    <tr style=\"text-align: right;\">\n",
       "      <th></th>\n",
       "      <th>actual</th>\n",
       "      <th>model1</th>\n",
       "      <th>model2</th>\n",
       "      <th>model3</th>\n",
       "      <th>model4</th>\n",
       "      <th>baseline</th>\n",
       "    </tr>\n",
       "  </thead>\n",
       "  <tbody>\n",
       "    <tr>\n",
       "      <th>0</th>\n",
       "      <td>cat</td>\n",
       "      <td>cat</td>\n",
       "      <td>dog</td>\n",
       "      <td>cat</td>\n",
       "      <td>dog</td>\n",
       "      <td>dog</td>\n",
       "    </tr>\n",
       "    <tr>\n",
       "      <th>1</th>\n",
       "      <td>dog</td>\n",
       "      <td>dog</td>\n",
       "      <td>cat</td>\n",
       "      <td>cat</td>\n",
       "      <td>dog</td>\n",
       "      <td>dog</td>\n",
       "    </tr>\n",
       "    <tr>\n",
       "      <th>2</th>\n",
       "      <td>dog</td>\n",
       "      <td>cat</td>\n",
       "      <td>cat</td>\n",
       "      <td>cat</td>\n",
       "      <td>dog</td>\n",
       "      <td>dog</td>\n",
       "    </tr>\n",
       "    <tr>\n",
       "      <th>3</th>\n",
       "      <td>dog</td>\n",
       "      <td>dog</td>\n",
       "      <td>dog</td>\n",
       "      <td>cat</td>\n",
       "      <td>dog</td>\n",
       "      <td>dog</td>\n",
       "    </tr>\n",
       "    <tr>\n",
       "      <th>4</th>\n",
       "      <td>cat</td>\n",
       "      <td>cat</td>\n",
       "      <td>cat</td>\n",
       "      <td>dog</td>\n",
       "      <td>dog</td>\n",
       "      <td>dog</td>\n",
       "    </tr>\n",
       "    <tr>\n",
       "      <th>...</th>\n",
       "      <td>...</td>\n",
       "      <td>...</td>\n",
       "      <td>...</td>\n",
       "      <td>...</td>\n",
       "      <td>...</td>\n",
       "      <td>...</td>\n",
       "    </tr>\n",
       "    <tr>\n",
       "      <th>4995</th>\n",
       "      <td>dog</td>\n",
       "      <td>dog</td>\n",
       "      <td>dog</td>\n",
       "      <td>dog</td>\n",
       "      <td>dog</td>\n",
       "      <td>dog</td>\n",
       "    </tr>\n",
       "    <tr>\n",
       "      <th>4996</th>\n",
       "      <td>dog</td>\n",
       "      <td>dog</td>\n",
       "      <td>cat</td>\n",
       "      <td>cat</td>\n",
       "      <td>dog</td>\n",
       "      <td>dog</td>\n",
       "    </tr>\n",
       "    <tr>\n",
       "      <th>4997</th>\n",
       "      <td>dog</td>\n",
       "      <td>cat</td>\n",
       "      <td>cat</td>\n",
       "      <td>dog</td>\n",
       "      <td>dog</td>\n",
       "      <td>dog</td>\n",
       "    </tr>\n",
       "    <tr>\n",
       "      <th>4998</th>\n",
       "      <td>cat</td>\n",
       "      <td>cat</td>\n",
       "      <td>cat</td>\n",
       "      <td>cat</td>\n",
       "      <td>dog</td>\n",
       "      <td>dog</td>\n",
       "    </tr>\n",
       "    <tr>\n",
       "      <th>4999</th>\n",
       "      <td>dog</td>\n",
       "      <td>dog</td>\n",
       "      <td>dog</td>\n",
       "      <td>dog</td>\n",
       "      <td>dog</td>\n",
       "      <td>dog</td>\n",
       "    </tr>\n",
       "  </tbody>\n",
       "</table>\n",
       "<p>5000 rows × 6 columns</p>\n",
       "</div>"
      ],
      "text/plain": [
       "     actual model1 model2 model3 model4 baseline\n",
       "0       cat    cat    dog    cat    dog      dog\n",
       "1       dog    dog    cat    cat    dog      dog\n",
       "2       dog    cat    cat    cat    dog      dog\n",
       "3       dog    dog    dog    cat    dog      dog\n",
       "4       cat    cat    cat    dog    dog      dog\n",
       "...     ...    ...    ...    ...    ...      ...\n",
       "4995    dog    dog    dog    dog    dog      dog\n",
       "4996    dog    dog    cat    cat    dog      dog\n",
       "4997    dog    cat    cat    dog    dog      dog\n",
       "4998    cat    cat    cat    cat    dog      dog\n",
       "4999    dog    dog    dog    dog    dog      dog\n",
       "\n",
       "[5000 rows x 6 columns]"
      ]
     },
     "execution_count": 10,
     "metadata": {},
     "output_type": "execute_result"
    }
   ],
   "source": [
    "paws"
   ]
  },
  {
   "cell_type": "code",
   "execution_count": 11,
   "metadata": {},
   "outputs": [],
   "source": [
    "subset1 = paws[paws.model1 == paws.actual]\n",
    "subset2 = paws[paws.model2 == paws.actual]\n",
    "subset3 = paws[paws.model3 == paws.actual]\n",
    "subset4 = paws[paws.model4 == paws.actual]\n",
    "subset_base = paws[paws.baseline == paws.actual]"
   ]
  },
  {
   "cell_type": "code",
   "execution_count": 17,
   "metadata": {},
   "outputs": [
    {
     "name": "stdout",
     "output_type": "stream",
     "text": [
      "model1 accuracy: 80.74%\n",
      "model2 accuracy: 63.04%\n",
      "model3 accuracy: 50.96%\n",
      "model4 accuracy: 74.26%\n",
      "base accuracy: 65.08%\n"
     ]
    }
   ],
   "source": [
    "# In terms of accuracy, how do the various models compare to the baseline model?\n",
    "# Are any of the models better than the baseline?\n",
    "# model 4 and model 1 have a higher accuracy than the baseline\n",
    "\n",
    "model1_accuracy = subset1.model1.count()/5000\n",
    "model2_accuracy = subset2.model2.count()/5000\n",
    "model3_accuracy = subset3.model3.count()/5000\n",
    "model4_accuracy = subset4.model4.count()/5000\n",
    "base_accuracy = subset_base.baseline.count()/5000\n",
    "print(f'model1 accuracy: {model1_accuracy:.2%}')\n",
    "print(f'model2 accuracy: {model2_accuracy:.2%}')\n",
    "print(f'model3 accuracy: {model3_accuracy:.2%}')\n",
    "print(f'model4 accuracy: {model4_accuracy:.2%}')\n",
    "print(f'base accuracy: {base_accuracy:.2%}')"
   ]
  },
  {
   "cell_type": "code",
   "execution_count": 18,
   "metadata": {},
   "outputs": [],
   "source": [
    "# Suppose you are working on a team that solely deals with dog pictures.\n",
    "# Which of these models would you recomend for Phase I? For Phase II?\n",
    "# For Phase I:\n",
    "    # TP = actual dog predict dog\n",
    "    # TN = actual cat predict cat\n",
    "    # FP = actual cat predict dog\n",
    "    # FN = actual dog predict cat\n",
    "# Phase I is about maximizing dog pictures to have more content for users. In this way False Negatives are\n",
    "# \"expensive\" meaning recall is the most relevant evaluation metric here."
   ]
  },
  {
   "cell_type": "code",
   "execution_count": 25,
   "metadata": {},
   "outputs": [
    {
     "name": "stdout",
     "output_type": "stream",
     "text": [
      "   model1 recall: 80.33%\n",
      "   model2 recall: 49.08%\n",
      "   model3 recall: 50.86%\n",
      "   model4 recall: 95.57%\n",
      "baseline recall: 100.00%\n"
     ]
    }
   ],
   "source": [
    "subset = paws[paws.actual == 'dog']\n",
    "\n",
    "model1_recall = (subset.model1 == subset.actual).mean()\n",
    "model2_recall = (subset.model2 == subset.actual).mean()\n",
    "model3_recall = (subset.model3 == subset.actual).mean()\n",
    "model4_recall = (subset.model4 == subset.actual).mean()\n",
    "baseline_recall = (subset.baseline == subset.actual).mean()\n",
    "\n",
    "print(f'   model1 recall: {model1_recall:.2%}')\n",
    "print(f'   model2 recall: {model2_recall:.2%}')\n",
    "print(f'   model3 recall: {model3_recall:.2%}')\n",
    "print(f'   model4 recall: {model4_recall:.2%}')\n",
    "print(f'baseline recall: {baseline_recall:.2%}')"
   ]
  },
  {
   "cell_type": "code",
   "execution_count": 26,
   "metadata": {},
   "outputs": [],
   "source": [
    "# For Phase I I would recommend using model 4 as it has the highest recall"
   ]
  },
  {
   "cell_type": "code",
   "execution_count": 61,
   "metadata": {},
   "outputs": [],
   "source": [
    "# Phase 2 is now about minimizing the number of cat pictures that get through. Customers must pay up if they want \n",
    "# both. Therefore False Positives are seen as \"expensive\" meaning that precision is the most relevant evaluation\n",
    "# method here\n",
    "p2_dog = paws[paws.model4 == 'dog']"
   ]
  },
  {
   "cell_type": "code",
   "execution_count": 62,
   "metadata": {},
   "outputs": [
    {
     "name": "stdout",
     "output_type": "stream",
     "text": [
      "model1 precision: 91.95%\n",
      "model2 precision: 92.39%\n",
      "model3 precision: 73.31%\n",
      "model4 precision: 73.12%\n"
     ]
    }
   ],
   "source": [
    "subset1 = p2_dog[p2_dog.model1 == 'dog']\n",
    "subset2 = p2_dog[p2_dog.model2 == 'dog']\n",
    "subset3 = p2_dog[p2_dog.model3 == 'dog']\n",
    "subset4 = p2_dog[p2_dog.model4 == 'dog']\n",
    "model1_precision = (subset1.actual == subset1.model1).mean()\n",
    "model2_precision = (subset2.actual == subset2.model2).mean()\n",
    "model3_precision = (subset3.actual == subset3.model3).mean()\n",
    "model4_precision = (subset4.actual == subset4.model4).mean()\n",
    "\n",
    "print(f'model1 precision: {model1_precision:.2%}')\n",
    "print(f'model2 precision: {model2_precision:.2%}')\n",
    "print(f'model3 precision: {model3_precision:.2%}')\n",
    "print(f'model4 precision: {model4_precision:.2%}')"
   ]
  },
  {
   "cell_type": "code",
   "execution_count": 35,
   "metadata": {},
   "outputs": [],
   "source": [
    "# For Phase II I would reccomend using model 2 as it has the highest precision"
   ]
  },
  {
   "cell_type": "code",
   "execution_count": 36,
   "metadata": {},
   "outputs": [],
   "source": [
    "# Suppose you are working on a team that solely deals with cat pictures. \n",
    "# Which of these models would you recomend for Phase I? For Phase II?\n",
    "# For Phase I:\n",
    "    # TP = actual cat predict cat\n",
    "    # TN = actual dog predict dog\n",
    "    # FP = actual dog predict cat\n",
    "    # FN = actual cat predict dog\n",
    "# Phase I is about maximizing cat pictures to have more content for users. In this way False Negatives are\n",
    "# \"expensive\" meaning recall is the most relevant evaluation metric here."
   ]
  },
  {
   "cell_type": "code",
   "execution_count": 39,
   "metadata": {},
   "outputs": [
    {
     "name": "stdout",
     "output_type": "stream",
     "text": [
      "   model1 recall: 81.50%\n",
      "   model2 recall: 89.06%\n",
      "   model3 recall: 51.15%\n",
      "   model4 recall: 34.54%\n"
     ]
    }
   ],
   "source": [
    "subset = paws[paws.actual == 'cat']\n",
    "\n",
    "model1_recall = (subset.model1 == subset.actual).mean()\n",
    "model2_recall = (subset.model2 == subset.actual).mean()\n",
    "model3_recall = (subset.model3 == subset.actual).mean()\n",
    "model4_recall = (subset.model4 == subset.actual).mean()\n",
    "\n",
    "print(f'   model1 recall: {model1_recall:.2%}')\n",
    "print(f'   model2 recall: {model2_recall:.2%}')\n",
    "print(f'   model3 recall: {model3_recall:.2%}')\n",
    "print(f'   model4 recall: {model4_recall:.2%}')"
   ]
  },
  {
   "cell_type": "code",
   "execution_count": 40,
   "metadata": {},
   "outputs": [],
   "source": [
    "# For Phase I I would recommend using model 2 as it has the highest recall"
   ]
  },
  {
   "cell_type": "code",
   "execution_count": 41,
   "metadata": {},
   "outputs": [],
   "source": [
    "# Phase 2 is now about minimizing the number of dog pictures that get through. Customers must pay up if they want \n",
    "# both. Therefore False Positives are seen as \"expensive\" meaning that precision is the most relevant evaluation\n",
    "# method here\n",
    "p2_cat = paws[paws.model2 == 'cat']"
   ]
  },
  {
   "cell_type": "code",
   "execution_count": 42,
   "metadata": {},
   "outputs": [
    {
     "name": "stdout",
     "output_type": "stream",
     "text": [
      "model1 precision: 80.13%\n",
      "model2 precision: 48.41%\n",
      "model3 precision: 49.17%\n",
      "model4 precision: 87.62%\n"
     ]
    }
   ],
   "source": [
    "subset1 = p2_cat[p2_cat.model1 == 'cat']\n",
    "subset2 = p2_cat[p2_cat.model2 == 'cat']\n",
    "subset3 = p2_cat[p2_cat.model3 == 'cat']\n",
    "subset4 = p2_cat[p2_cat.model4 == 'cat']\n",
    "model1_precision = (subset1.actual == subset1.model1).mean()\n",
    "model2_precision = (subset2.actual == subset2.model2).mean()\n",
    "model3_precision = (subset3.actual == subset3.model3).mean()\n",
    "model4_precision = (subset4.actual == subset4.model4).mean()\n",
    "\n",
    "print(f'model1 precision: {model1_precision:.2%}')\n",
    "print(f'model2 precision: {model2_precision:.2%}')\n",
    "print(f'model3 precision: {model3_precision:.2%}')\n",
    "print(f'model4 precision: {model4_precision:.2%}')"
   ]
  },
  {
   "cell_type": "code",
   "execution_count": 43,
   "metadata": {},
   "outputs": [],
   "source": [
    "# For Phase II I would reccomend using model 4 as it has the highest precision"
   ]
  },
  {
   "cell_type": "code",
   "execution_count": 47,
   "metadata": {},
   "outputs": [
    {
     "name": "stdout",
     "output_type": "stream",
     "text": [
      "model1 accuracy: 80.74%\n",
      "model2 accuracy: 63.04%\n",
      "model3 accuracy: 50.96%\n",
      "model4 accuracy: 74.26%\n",
      "base accuracy: 34.92%\n"
     ]
    }
   ],
   "source": [
    "from sklearn.metrics import accuracy_score\n",
    "print(f'model1 accuracy: {accuracy_score(paws.actual, paws.model1):.2%}')\n",
    "print(f'model2 accuracy: {accuracy_score(paws.actual, paws.model2):.2%}')\n",
    "print(f'model3 accuracy: {accuracy_score(paws.actual, paws.model3):.2%}')\n",
    "print(f'model4 accuracy: {accuracy_score(paws.actual, paws.model4):.2%}')\n",
    "print(f'base accuracy: {accuracy_score(paws.actual, paws.baseline):.2%}')"
   ]
  },
  {
   "cell_type": "code",
   "execution_count": 68,
   "metadata": {},
   "outputs": [
    {
     "name": "stdout",
     "output_type": "stream",
     "text": [
      "0.803318992009834\n",
      "0.49078057775046097\n",
      "0.5086047940995697\n",
      "0.9557467732022127\n",
      "0.0\n"
     ]
    }
   ],
   "source": [
    "from sklearn.metrics import recall_score\n",
    "print(recall_score(paws.actual, paws.model1, pos_label = 'dog'))\n",
    "print(recall_score(paws.actual, paws.model2, pos_label = 'dog'))\n",
    "print(recall_score(paws.actual, paws.model3, pos_label = 'dog'))\n",
    "print(recall_score(paws.actual, paws.model4, pos_label = 'dog'))\n",
    "print(recall_score(paws.actual, paws.baseline, pos_label = 'dog'))"
   ]
  },
  {
   "cell_type": "code",
   "execution_count": 64,
   "metadata": {},
   "outputs": [
    {
     "name": "stdout",
     "output_type": "stream",
     "text": [
      "0.9195275009228497\n",
      "0.9238670694864048\n",
      "0.7330861909175163\n",
      "0.7312485304490948\n",
      "0.0\n"
     ]
    }
   ],
   "source": [
    "from sklearn.metrics import precision_score\n",
    "print(precision_score(p2_dog.actual, p2_dog.model1, pos_label = 'dog'))\n",
    "print(precision_score(p2_dog.actual, p2_dog.model2, pos_label = 'dog'))\n",
    "print(precision_score(p2_dog.actual, p2_dog.model3, pos_label = 'dog'))\n",
    "print(precision_score(p2_dog.actual, p2_dog.model4, pos_label = 'dog'))\n",
    "print(precision_score(p2_dog.actual, p2_dog.baseline, pos_label = 'dog'))"
   ]
  },
  {
   "cell_type": "code",
   "execution_count": 69,
   "metadata": {},
   "outputs": [
    {
     "name": "stdout",
     "output_type": "stream",
     "text": [
      "0.8150057273768614\n",
      "0.8906071019473081\n",
      "0.5114547537227949\n",
      "0.34536082474226804\n",
      "1.0\n"
     ]
    }
   ],
   "source": [
    "print(recall_score(paws.actual, paws.model1, pos_label = 'cat'))\n",
    "print(recall_score(paws.actual, paws.model2, pos_label = 'cat'))\n",
    "print(recall_score(paws.actual, paws.model3, pos_label = 'cat'))\n",
    "print(recall_score(paws.actual, paws.model4, pos_label = 'cat'))\n",
    "print(recall_score(paws.actual, paws.baseline, pos_label = 'cat'))"
   ]
  },
  {
   "cell_type": "code",
   "execution_count": 70,
   "metadata": {},
   "outputs": [
    {
     "name": "stdout",
     "output_type": "stream",
     "text": [
      "0.8012698412698412\n",
      "0.4841220423412204\n",
      "0.49171270718232046\n",
      "0.8762214983713354\n",
      "0.4841220423412204\n"
     ]
    }
   ],
   "source": [
    "print(precision_score(p2_cat.actual, p2_cat.model1, pos_label = 'cat'))\n",
    "print(precision_score(p2_cat.actual, p2_cat.model2, pos_label = 'cat'))\n",
    "print(precision_score(p2_cat.actual, p2_cat.model3, pos_label = 'cat'))\n",
    "print(precision_score(p2_cat.actual, p2_cat.model4, pos_label = 'cat'))\n",
    "print(precision_score(p2_cat.actual, p2_cat.baseline, pos_label = 'cat'))"
   ]
  },
  {
   "cell_type": "code",
   "execution_count": 79,
   "metadata": {},
   "outputs": [
    {
     "name": "stdout",
     "output_type": "stream",
     "text": [
      "Model 1\n",
      "              precision    recall  f1-score   support\n",
      "\n",
      "         cat       0.69      0.82      0.75      1746\n",
      "         dog       0.89      0.80      0.84      3254\n",
      "\n",
      "    accuracy                           0.81      5000\n",
      "   macro avg       0.79      0.81      0.80      5000\n",
      "weighted avg       0.82      0.81      0.81      5000\n",
      "\n",
      "Model 2\n",
      "              precision    recall  f1-score   support\n",
      "\n",
      "         cat       0.48      0.89      0.63      1746\n",
      "         dog       0.89      0.49      0.63      3254\n",
      "\n",
      "    accuracy                           0.63      5000\n",
      "   macro avg       0.69      0.69      0.63      5000\n",
      "weighted avg       0.75      0.63      0.63      5000\n",
      "\n",
      "Model 3\n",
      "              precision    recall  f1-score   support\n",
      "\n",
      "         cat       0.36      0.51      0.42      1746\n",
      "         dog       0.66      0.51      0.57      3254\n",
      "\n",
      "    accuracy                           0.51      5000\n",
      "   macro avg       0.51      0.51      0.50      5000\n",
      "weighted avg       0.55      0.51      0.52      5000\n",
      "\n",
      "Model 4\n",
      "              precision    recall  f1-score   support\n",
      "\n",
      "         cat       0.81      0.35      0.48      1746\n",
      "         dog       0.73      0.96      0.83      3254\n",
      "\n",
      "    accuracy                           0.74      5000\n",
      "   macro avg       0.77      0.65      0.66      5000\n",
      "weighted avg       0.76      0.74      0.71      5000\n",
      "\n"
     ]
    }
   ],
   "source": [
    "from sklearn.metrics import classification_report\n",
    "print('Model 1')\n",
    "print(classification_report(paws.actual, paws.model1))\n",
    "print('Model 2')\n",
    "print(classification_report(paws.actual, paws.model2))\n",
    "print('Model 3')\n",
    "print(classification_report(paws.actual, paws.model3))\n",
    "print('Model 4')\n",
    "print(classification_report(paws.actual, paws.model4))"
   ]
  },
  {
   "cell_type": "code",
   "execution_count": null,
   "metadata": {},
   "outputs": [],
   "source": []
  }
 ],
 "metadata": {
  "kernelspec": {
   "display_name": "Python 3",
   "language": "python",
   "name": "python3"
  },
  "language_info": {
   "codemirror_mode": {
    "name": "ipython",
    "version": 3
   },
   "file_extension": ".py",
   "mimetype": "text/x-python",
   "name": "python",
   "nbconvert_exporter": "python",
   "pygments_lexer": "ipython3",
   "version": "3.8.5"
  }
 },
 "nbformat": 4,
 "nbformat_minor": 4
}
